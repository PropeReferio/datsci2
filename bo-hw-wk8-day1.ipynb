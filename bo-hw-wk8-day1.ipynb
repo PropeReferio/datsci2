{
 "cells": [
  {
   "cell_type": "markdown",
   "metadata": {},
   "source": [
    "# Exercises"
   ]
  },
  {
   "cell_type": "markdown",
   "metadata": {},
   "source": [
    "### #1 - Calculate the BMI (body mass index) on the two lists below using NDArrays..."
   ]
  },
  {
   "cell_type": "code",
   "execution_count": 2,
   "metadata": {},
   "outputs": [
    {
     "name": "stdout",
     "output_type": "stream",
     "text": [
      "[16.86620458 17.87755102 18.82562984 19.71450617 20.54794521 21.32943755\n",
      " 22.06222222]\n"
     ]
    }
   ],
   "source": [
    "import numpy as np\n",
    "# formula = weight / (height**2) * 730\n",
    "height = [69, 70, 71, 72, 73, 74, 75]\n",
    "weight = [110, 120, 130, 140, 150, 160, 170]\n",
    "BMI = np.array(weight) / np.array(height)**2 * 730\n",
    "print(BMI)\n",
    "\n"
   ]
  },
  {
   "cell_type": "markdown",
   "metadata": {},
   "source": [
    "### #2 - Create a function that will take in two parameters and will create a random matrix based off of those parameters. Extra: Have additional parameters taken in that allow the user to choose the shape and data type of the matrix."
   ]
  },
  {
   "cell_type": "code",
   "execution_count": 3,
   "metadata": {},
   "outputs": [
    {
     "name": "stdout",
     "output_type": "stream",
     "text": [
      "[[ 4 11 10]\n",
      " [ 8  8 12]\n",
      " [ 4 13  4]]\n",
      "[[14.2126251  12.39084852  5.95051243 14.12700321 12.08700831  9.70575494\n",
      "   4.69409184 11.4340409  14.12295736 13.6417856  14.97151839]\n",
      " [12.02818047 10.15283282  8.03820483 12.43806113  4.47730138 12.30396431\n",
      "   4.64735977  8.73749614  6.39073623 11.72779332  5.85876489]\n",
      " [ 8.47710809  7.60571669  7.60162798 12.59511281  9.44402155  4.30458586\n",
      "   9.43011961 12.91260451  3.50933197 11.00514842  9.685571  ]\n",
      " [ 8.35087125  9.03317248  5.13085205 11.91354024 13.26365003 10.62906117\n",
      "   7.6327425   9.60803648 12.19095177  6.9607314   7.85234411]\n",
      " [12.13939749  3.87726984  4.01324823  5.94630439  6.73142133  7.59184053\n",
      "   3.07020566  8.57581226  4.55955071  9.20796354 11.62585538]]\n"
     ]
    }
   ],
   "source": [
    "def buildmatrix(min, max, shape=(3,3), dType='i'):\n",
    "    arr = np.random.uniform(min, max, shape)\n",
    "    if dType == 'f':\n",
    "        print(arr)\n",
    "    elif dType == 'i':\n",
    "        arr = arr.astype(np.int64)\n",
    "        print(arr)\n",
    "\n",
    "buildmatrix(3,15)\n",
    "buildmatrix(3,15, (5,11), 'f')\n"
   ]
  },
  {
   "cell_type": "markdown",
   "metadata": {},
   "source": [
    "### #3 - Extra: Open and load the data in the two text files that have the Boston Red Sox hitting data for the past seasons. Compare the difference in the two years by putting the data into an NDArray and running a differencial operation on it. The column to look for will be SLG.\n",
    "\n",
    "Your output should display which year (either 2017 or 2018) was a better year based on SLG"
   ]
  },
  {
   "cell_type": "code",
   "execution_count": 16,
   "metadata": {},
   "outputs": [
    {
     "name": "stdout",
     "output_type": "stream",
     "text": [
      "19\n",
      "19\n",
      "[0.279 0.433 0.388 0.522 0.433 0.465 0.403 0.64  0.629 0.411 0.283 0.328\n",
      " 0.395 0.507 0.311 0.415 0.389 0.261 0.091 0.167]\n",
      "[0.404 0.443 0.392 0.403 0.482 0.424 0.402 0.459 0.429 0.354 0.387 0.333\n",
      " 0.539 0.243 0.262 0.354 0.342 0.339 0.328 0.306 0.222 0.2   1.   ]\n"
     ]
    }
   ],
   "source": [
    "import csv\n",
    "import numpy as np\n",
    "\n",
    "#Test to make sure you have the correct data\n",
    "def open_txt(filename, d=','):\n",
    "    #Open CSV -- RedSox hitting.txt\n",
    "    data = []\n",
    "    \n",
    "    with open(filename, encoding='utf-8') as mData:\n",
    "        info = csv.reader(mData,delimiter=d)\n",
    "        \n",
    "        for row in info:\n",
    "            data.append(row)\n",
    "    return data\n",
    "\n",
    "bs2017 = open_txt('files/redsox_2017_hitting.txt')\n",
    "bs2018 = open_txt('files/redsox_2018_hitting.txt')\n",
    "\n",
    "print(bs2017[0].index('SLG'))\n",
    "print(bs2018[0].index('SLG'))\n",
    "slugs17 = np.array(bs2018)[1:,19].astype(np.float64)\n",
    "slugs18 = np.array(bs2017)[1:,19].astype(np.float64)\n",
    "print(slugs17)\n",
    "print(slugs18)\n"
   ]
  },
  {
   "cell_type": "code",
   "execution_count": null,
   "metadata": {},
   "outputs": [],
   "source": [
    "FIELDS = ['Rk', 'Pos', 'Name', 'Age', 'G', 'PA', 'AB', 'R', 'H', '2B', '3B', 'HR', 'RBI', 'SB', 'CS', \n",
    "          'BB', 'SO', 'BA', 'OBP', 'SLG', 'OPS', 'OPS+', 'TB', 'GDP', 'HBP', 'SH', 'SF', 'IBB']\n",
    "\n",
    "DATATYPES = [('rk', 'i'), ('pos', '|S25'), ('name', '|S25'), ('age', 'i'), ('g', 'i'), ('pa', 'i'), ('ab', 'i'),\n",
    "                ('r', 'i'), ('h', 'i'), ('2b', 'i'), ('3b', 'i'), ('hr', 'i'), ('rbi', 'i'), ('sb', 'i'), ('cs', 'i'),\n",
    "                ('bb', 'i'), ('so', 'i'), ('ba', 'f'), ('obp', 'f'), ('slg', 'f'), ('ops', 'f'), ('opsp', 'i'),\n",
    "                ('tb', 'i'), ('gdp', 'i'), ('hbp', 'i'), ('sh', 'i'), ('sf', 'i'), ('ibb', 'i')]\n",
    "\n",
    "#Use this function to actually open the data inside of a NDArray\n",
    "\n",
    "def load_data(filename, d=','):\n",
    "    data = np.genfromtxt(filename,delimiter=d, skip_header = 1, usecols = np.arange(0,28), invalid_raise = False, names = FIELDS, dtype=DATATYPES)\n",
    "#     Get data with a similar example to class lecture\n",
    "    return data\n",
    "\n",
    "bos_17 = load_data('files/redsox_2017_hitting.txt')\n",
    "bos_18 = load_data('files/redsox_2018_hitting.txt')\n"
   ]
  }
 ],
 "metadata": {
  "kernelspec": {
   "display_name": "Python 3",
   "language": "python",
   "name": "python3"
  },
  "language_info": {
   "codemirror_mode": {
    "name": "ipython",
    "version": 3
   },
   "file_extension": ".py",
   "mimetype": "text/x-python",
   "name": "python",
   "nbconvert_exporter": "python",
   "pygments_lexer": "ipython3",
   "version": "3.7.4"
  }
 },
 "nbformat": 4,
 "nbformat_minor": 2
}
